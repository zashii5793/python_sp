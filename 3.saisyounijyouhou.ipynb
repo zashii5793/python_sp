{
 "cells": [
  {
   "cell_type": "markdown",
   "metadata": {},
   "source": [
    "# 最小二乗法\n",
    "\n",
    "$N$個のデータ$(x_1,y_1),\\cdots,(x_N,y_N)$に対してある直線をあてはたい。\n",
    "各データを近似できる直線を以下のように定義する。\n",
    "\n",
    "$$\n",
    "y = ax+b\n",
    "$$\n",
    "\n",
    "この直線の $a$ と $b$ を求めたい。\n",
    "\n",
    "点 $(x_n,y_n)$における、近似された直線の$y$軸の値$y'_n$の値は\n",
    "\n",
    "$\n",
    "y'_{n} = ax_n + b\n",
    "$\n",
    "\n",
    "であるから、実際の点と近似された点との誤差 $t$は\n",
    "\n",
    "$\n",
    "t = y'_{n} - ( ax_n + b )　\\tag{1.1}\n",
    "$\n",
    "\n",
    "と表すことができる。\n",
    "$t$ はプラスとマイナスの誤差で打ち消されていまうので<br>\n",
    "この2乗和を考え、各点の誤差の合計を最も小さくする変数　$a,b$　を求められれば良い。\n",
    "\n",
    "$$\n",
    "J = \\sum_{n=1}^{N}(  y'_{n} - ( ax_n + b ) )^2 \\tag{1.2}\n",
    "$$\n",
    "\n",
    "式(1.2)を最小化する　$a,b$ を求める。\n",
    "\n",
    "\n",
    "\n",
    "式(1.2)　をそれぞれ$a$ , $b$ で偏微分で得られた導関数が０となる解を求めれば良い。\n",
    "\n",
    "$$\n",
    "\\frac{\\partial J}{\\partial a} = 0 , \\frac{\\partial J}{\\partial b} = 0 , \n",
    "$$\n",
    "\n",
    "具体的に偏微分してみると<br>\n",
    "\n",
    "$$\n",
    "\\frac{\\partial J}{\\partial a} = a\\sum_{n=1}^{N}x_n^2 + b\\sum_{n=1}^{N}x_n - \\sum_{n=1}^{N}x_ny_n \\tag{1.3}\n",
    "$$\n",
    "\n",
    "$$\n",
    "\\frac{\\partial J}{\\partial b} = a\\sum_{n=1}^{N}x_n + b\\sum_{n=1}^{N}1 - \\sum_{n=1}^{N}y_n \\tag{1.4}\n",
    "$$\n",
    "\n"
   ]
  },
  {
   "cell_type": "markdown",
   "metadata": {},
   "source": [
    "## 解法１\n"
   ]
  },
  {
   "cell_type": "markdown",
   "metadata": {},
   "source": [
    "式(1.3)(1.4)は、これは連立1次方程式の形であり、これを解いて$a,b$を求めればよい。\n",
    "\n",
    "\n",
    "$$\n",
    "a\\sum_{n=1}^{N}x_n^2 + b\\sum_{n=1}^{N}x_n = \\sum_{n=1}^{N}x_ny_n \\tag{1.5}\n",
    "$$\n",
    "\n",
    "$$\n",
    "a\\sum_{n=1}^{N}x_n + b\\sum_{n=1}^{N}1 = \\sum_{n=1}^{N}y_n \\tag{1.6}\n",
    "$$"
   ]
  },
  {
   "cell_type": "markdown",
   "metadata": {},
   "source": [
    "## Numpyの連立１次方程式を解く関数を使う"
   ]
  },
  {
   "cell_type": "code",
   "execution_count": null,
   "metadata": {},
   "outputs": [],
   "source": [
    "import numpy as np\n",
    "import random\n",
    "\n",
    "y = np.array([ 3 * x + 5.0 +random.random()*6 for x in range(10)])\n",
    "x = np.arange(10)\n"
   ]
  },
  {
   "cell_type": "code",
   "execution_count": null,
   "metadata": {},
   "outputs": [],
   "source": [
    "%matplotlib inline\n",
    "from matplotlib import pyplot as plt\n",
    "plt.scatter( [x for x in range (10)], y)"
   ]
  },
  {
   "cell_type": "code",
   "execution_count": null,
   "metadata": {},
   "outputs": [],
   "source": [
    "(x,y)"
   ]
  },
  {
   "cell_type": "code",
   "execution_count": null,
   "metadata": {},
   "outputs": [],
   "source": [
    "sum_XX = np.sum(x**2)　\n",
    "sum_X = np.sum(x)\n",
    "sum_1 = 10\n",
    "sum_XY = np.sum( x * y)\n",
    "sum_Y = np.sum(y)\n"
   ]
  },
  {
   "cell_type": "code",
   "execution_count": null,
   "metadata": {},
   "outputs": [],
   "source": [
    "X= np.array([[sum_XX,sum_X],[sum_X,sum_1]])\n",
    "Y = np.array([sum_XY,sum_Y])\n",
    "a,b = np.linalg.solve(X,Y)\n",
    "print(a)\n",
    "print(b)"
   ]
  },
  {
   "cell_type": "code",
   "execution_count": null,
   "metadata": {},
   "outputs": [],
   "source": [
    "%matplotlib inline\n",
    "from matplotlib import pyplot as plt\n",
    "plt.scatter( [x for x in range (10)], y)\n",
    "plt.plot( [x for x in range(10)],[ x*a + b for x in range(10)],c='r')"
   ]
  }
 ],
 "metadata": {
  "kernelspec": {
   "display_name": "Python 3",
   "language": "python",
   "name": "python3"
  },
  "language_info": {
   "codemirror_mode": {
    "name": "ipython",
    "version": 3
   },
   "file_extension": ".py",
   "mimetype": "text/x-python",
   "name": "python",
   "nbconvert_exporter": "python",
   "pygments_lexer": "ipython3",
   "version": "3.6.4"
  },
  "toc": {
   "colors": {
    "hover_highlight": "#DAA520",
    "running_highlight": "#FF0000",
    "selected_highlight": "#FFD700"
   },
   "moveMenuLeft": true,
   "nav_menu": {
    "height": "104px",
    "width": "251px"
   },
   "navigate_menu": true,
   "number_sections": true,
   "sideBar": true,
   "threshold": 4,
   "toc_cell": false,
   "toc_section_display": "block",
   "toc_window_display": false
  }
 },
 "nbformat": 4,
 "nbformat_minor": 2
}
